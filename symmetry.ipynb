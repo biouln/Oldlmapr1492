{
 "cells": [
  {
   "cell_type": "code",
   "execution_count": 2,
   "metadata": {},
   "outputs": [
    {
     "name": "stdout",
     "output_type": "stream",
     "text": [
      "Full Formula (Sr1 Cl2)\n",
      "Reduced Formula: SrCl2\n",
      "abc   :   4.983141   4.983141   4.983141\n",
      "angles:  60.000000  60.000000  60.000000\n",
      "Sites (3)\n",
      "  #  SP       a     b     c    magmom\n",
      "---  ----  ----  ----  ----  --------\n",
      "  0  Sr    0     0     0           -0\n",
      "  1  Cl    0.75  0.75  0.75         0\n",
      "  2  Cl    0.25  0.25  0.25         0\n",
      "Fm-3m (225) spacegroup\n",
      "\n",
      "The following data is pertinant to the study of our material.\n",
      "\n",
      "Carthesian Coordinates and fractional coordinates of the 3 atomes: \n",
      "\n",
      "[0. 0. 0.] Sr [0. 0. 0.]\n",
      "\n",
      " [5.2854195 5.2854195 5.2854195] Cl [0.75 0.75 0.75]\n",
      "\n",
      " [1.7618065 1.7618065 1.7618065] Cl [0.25 0.25 0.25]\n"
     ]
    }
   ],
   "source": [
    "from pymatgen.symmetry import analyzer\n",
    "from numpy import dot\n",
    "from IPython.display import Image\n",
    "from pymatgen.ext.matproj import MPRester\n",
    "from pymatgen.io.cif import CifWriter\n",
    "\n",
    "with MPRester(\"tA2HQFkWnG7wRPHf\") as mp:\n",
    "    # Create a structure for material id mp-23209\n",
    "    structure = mp.get_structure_by_material_id(\"mp-23209\")\n",
    "    print(structure)\n",
    "    \n",
    "\n",
    "w = CifWriter(structure, symprec=0.1)\n",
    "w.write_file(\"SrCl2_mp-23209.cif\")\n",
    "\n",
    "\n",
    "#SpacegroupAnalyser SGA:\n",
    "SGA = analyzer.SpacegroupAnalyzer(structure)\n",
    "\n",
    "SGO = SGA.get_space_group_operations()\n",
    "print(SGO)\n",
    "\n",
    "symop = SGA.get_symmetry_operations()\n",
    "site = structure.sites\n",
    "print(\"\\nThe following data is pertinant to the study of our material.\\n\")\n",
    "print(\"Carthesian Coordinates and fractional coordinates of the 3 atomes: \\n\")\n",
    "print(site[0],site[0].frac_coords)\n",
    "print(\"\\n\",site[1],site[1].frac_coords)\n",
    "print(\"\\n\",site[2],site[2].frac_coords)"
   ]
  },
  {
   "cell_type": "code",
   "execution_count": 24,
   "metadata": {},
   "outputs": [
    {
     "name": "stdout",
     "output_type": "stream",
     "text": [
      "roto-inversion\n",
      "\n",
      "rotation matrix\n",
      "[[0. 0. 1.]\n",
      " [1. 0. 0.]\n",
      " [0. 1. 0.]]\n",
      "translation vector:\n",
      "[0. 0. 0.]\n",
      "If you take an atome situated in:[0.5 0.5 0]\n",
      "\n",
      "Then applying the 10th symmetry operation on that atom gives you another situated in:\n",
      "\n",
      " [0.  0.5 0.5]\n"
     ]
    }
   ],
   "source": [
    "#\n",
    "symop1 = symop[16] \n",
    "rot1 = symop1.rotation_matrix\n",
    "transl1 = symop1.translation_vector\n",
    "print(\"roto-inversion\")\n",
    "print(\"\\nrotation matrix\")\n",
    "print(rot1)\n",
    "print(\"translation vector:\")\n",
    "print(transl1)\n",
    "print(\"If you take an atome situated in:[0.5 0.5 0]\")\n",
    "print(\"\\nThen applying the 16th symmetry operation on that atom gives you another situated in:\")\n",
    "#matrix product\n",
    "print(\"\\n\",dot(rot1, [0.5,0.5,0]) + transl1)\n"
   ]
  },
  {
   "cell_type": "code",
   "execution_count": 5,
   "metadata": {},
   "outputs": [
    {
     "name": "stdout",
     "output_type": "stream",
     "text": [
      "rotation matrix\n",
      "[[ 0. -1.  0.]\n",
      " [-1.  0.  0.]\n",
      " [ 0.  0. -1.]]\n",
      "translation vector:\n",
      "[0. 0. 0.]\n",
      "If you take an atome situated in: Cl1 [0.75 0.75 0.75]\n",
      "\n",
      "Then applying the 4th symmetry operation on that atom gives you another situated in:\n",
      "\n",
      " [-0.75 -0.75 -0.75]\n"
     ]
    }
   ],
   "source": [
    "#\n",
    "symop2 = symop[2] \n",
    "rot2 = symop2.rotation_matrix\n",
    "trans2 = symop2.translation_vector\n",
    "print(\"C2 axis\")\n",
    "print(\"rotation matrix\")\n",
    "print(rot2)\n",
    "print(\"translation vector:\")\n",
    "print(trans2)\n",
    "print(\"If you take an atome situated in:\",site[1].species, site[1].frac_coords)\n",
    "print(\"\\nThen applying the 2nd symmetry operation on that atom gives you another situated in:\")\n",
    "#matrix product\n",
    "print(\"\\n\",dot(rot2, site[1].frac_coords) + trans2)"
   ]
  },
  {
   "cell_type": "code",
   "execution_count": 28,
   "metadata": {},
   "outputs": [
    {
     "name": "stdout",
     "output_type": "stream",
     "text": [
      "rotation matrix\n",
      "[[ 0.  0.  1.]\n",
      " [-1. -1. -1.]\n",
      " [ 0.  1.  0.]]\n",
      "translation vector:\n",
      "[0. 0. 0.]\n",
      "If you take an atome situated in: Cl1 [0.25 0.25 0.25]\n",
      "\n",
      "Then applying the 47th symmetry operation on that atom gives you another situated in:\n",
      "\n",
      " [ 0.25 -0.75  0.25]\n"
     ]
    }
   ],
   "source": [
    "#\n",
    "symop3 = symop[7] \n",
    "rot3 = symop3.rotation_matrix\n",
    "trans3 = symop3.translation_vector\n",
    "print(\"(roto-inversion)\")\n",
    "print(\"\\nrotation matrix\")\n",
    "print(rot3)\n",
    "print(\"translation vector:\")\n",
    "print(trans3)\n",
    "print(\"If you take an atome situated in:\",site[2].species, site[2].frac_coords)\n",
    "print(\"\\nThen applying the 7th symmetry operation on that atom gives you another situated in:\")\n",
    "#matrix product\n",
    "print(\"\\n\",dot(rot3, site[2].frac_coords) + trans3)"
   ]
  },
  {
   "cell_type": "code",
   "execution_count": null,
   "metadata": {},
   "outputs": [],
   "source": []
  }
 ],
 "metadata": {
  "kernelspec": {
   "display_name": "Python 3",
   "language": "python",
   "name": "python3"
  },
  "language_info": {
   "codemirror_mode": {
    "name": "ipython",
    "version": 3
   },
   "file_extension": ".py",
   "mimetype": "text/x-python",
   "name": "python",
   "nbconvert_exporter": "python",
   "pygments_lexer": "ipython3",
   "version": "3.6.8"
  }
 },
 "nbformat": 4,
 "nbformat_minor": 2
}
