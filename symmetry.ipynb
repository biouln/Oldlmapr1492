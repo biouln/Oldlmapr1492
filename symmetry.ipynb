{
 "cells": [
  {
   "cell_type": "code",
   "execution_count": 14,
   "metadata": {
    "scrolled": true
   },
   "outputs": [
    {
     "name": "stdout",
     "output_type": "stream",
     "text": [
      "Full Formula (K1 Er1 O2)\n",
      "Reduced Formula: KErO2\n",
      "abc   :   6.560674   6.560674   6.560674\n",
      "angles:  30.451816  30.451816  30.451816\n",
      "Sites (4)\n",
      "  #  SP           a         b         c    magmom\n",
      "---  ----  --------  --------  --------  --------\n",
      "  0  O     0.772128  0.772128  0.772128         0\n",
      "  1  O     0.227872  0.227872  0.227872         0\n",
      "  2  K     0         0         0                0\n",
      "  3  Er    0.5       0.5       0.5              0\n",
      "\n",
      "L’élément de symétrie n°8 du fichier CIF est un plan miroir perpendiculaire à la direction[110]\n",
      "Cet élément de symétrie envoie tout atome situé en(x,y,z)surun atome équivalent situé en(−x,-y,z)\n",
      "La matrice qui lui est associée est :\n",
      "[[ 0. -1.  0.]\n",
      " [-1.  0.  0.]\n",
      " [ 0.  0.  1.]]\n",
      "Son application à un atome de K situé en(2/3,1/3,1/3) est donné par l'atome équivalent: [-0.33 -0.67  0.33]\n"
     ]
    },
    {
     "ename": "NameError",
     "evalue": "name 'no15' is not defined",
     "output_type": "error",
     "traceback": [
      "\u001b[0;31m---------------------------------------------------------------------------\u001b[0m",
      "\u001b[0;31mNameError\u001b[0m                                 Traceback (most recent call last)",
      "\u001b[0;32m<ipython-input-14-f298381b5fa9>\u001b[0m in \u001b[0;36m<module>\u001b[0;34m\u001b[0m\n\u001b[1;32m     17\u001b[0m \u001b[0mprint\u001b[0m\u001b[0;34m(\u001b[0m\u001b[0mmirror\u001b[0m\u001b[0;34m.\u001b[0m\u001b[0mrotation_matrix\u001b[0m\u001b[0;34m)\u001b[0m\u001b[0;34m\u001b[0m\u001b[0;34m\u001b[0m\u001b[0m\n\u001b[1;32m     18\u001b[0m \u001b[0mprint\u001b[0m\u001b[0;34m(\u001b[0m\u001b[0;34m\"Son application à un atome de K situé en(2/3,1/3,1/3) est donné par l'atome équivalent:\"\u001b[0m\u001b[0;34m,\u001b[0m \u001b[0mmirror\u001b[0m\u001b[0;34m.\u001b[0m\u001b[0moperate\u001b[0m\u001b[0;34m(\u001b[0m\u001b[0;34m(\u001b[0m\u001b[0;36m0.67\u001b[0m\u001b[0;34m,\u001b[0m\u001b[0;36m0.33\u001b[0m\u001b[0;34m,\u001b[0m\u001b[0;36m0.33\u001b[0m\u001b[0;34m)\u001b[0m\u001b[0;34m)\u001b[0m\u001b[0;34m)\u001b[0m\u001b[0;34m\u001b[0m\u001b[0;34m\u001b[0m\u001b[0m\n\u001b[0;32m---> 19\u001b[0;31m \u001b[0mprint\u001b[0m\u001b[0;34m(\u001b[0m\u001b[0mno15\u001b[0m\u001b[0;34m.\u001b[0m\u001b[0mjpg\u001b[0m\u001b[0;34m)\u001b[0m\u001b[0;34m\u001b[0m\u001b[0;34m\u001b[0m\u001b[0m\n\u001b[0m\u001b[1;32m     20\u001b[0m \u001b[0;34m\u001b[0m\u001b[0m\n\u001b[1;32m     21\u001b[0m \u001b[0mprint\u001b[0m\u001b[0;34m(\u001b[0m\u001b[0;34m\"\"\u001b[0m\u001b[0;34m)\u001b[0m\u001b[0;34m\u001b[0m\u001b[0;34m\u001b[0m\u001b[0m\n",
      "\u001b[0;31mNameError\u001b[0m: name 'no15' is not defined"
     ]
    }
   ],
   "source": [
    "import pymatgen as mp\n",
    "import numpy as np\n",
    "import pymatgen.symmetry.analyzer as span\n",
    "import pymatgen.core.lattice as lat\n",
    "from pymatgen.core.operations import SymmOp\n",
    "from pymatgen.symmetry.analyzer import SpacegroupAnalyzer\n",
    "from pymatgen.ext.matproj import MPRester\n",
    "with MPRester(\"tA2HQFkWnG7wRPHf\") as api:\n",
    "    structure=api.get_structure_by_material_id(\"mp-7959\")\n",
    "print(structure)\n",
    "finder = span.SpacegroupAnalyzer(structure)\n",
    "print(\"\")\n",
    "mirror=SymmOp.from_xyz_string(\"-y,-x,z\")\n",
    "print(\"L’élément de symétrie n°8 du fichier CIF est un plan miroir perpendiculaire à la direction[110]\")\n",
    "print(\"Cet élément de symétrie envoie tout atome situé en(x,y,z)surun atome équivalent situé en(−x,-y,z)\")\n",
    "print(\"La matrice qui lui est associée est :\")\n",
    "print(mirror.rotation_matrix)\n",
    "print(\"Son application à un atome de K situé en(2/3,1/3,1/3) est donné par l'atome équivalent:\", mirror.operate((0.67,0.33,0.33)))\n",
    "print(\"Voir fichier no8.jpg\")\n",
    "\n",
    "print(\"\")\n",
    "\n",
    "fsa=SymmOp.from_xyz_string(\"−y-1/3,x-y+1/3,z+1/3\")\n",
    "print(\"L’élément de symétrie n°15 du fichier CIF est une rotation hélicoïdale d'ordre 3.\")\n",
    "print(\"Cet élément de symétrie envoie tout atome situé en(x,y,z)surun atome équivalent situé en(−y-1/3,x-y+1/3,z+1/3)\")\n",
    "print(\"La matrice de rotation qui lui est associée est :\")\n",
    "print(fsa.rotation_matrix)\n",
    "print(\"Le vecteur de transaltion qui lui est associée est :\")\n",
    "print([-1/3,1/3,1/3])\n",
    "print(\"Son application à un atome de Er situé en(0,0,1/2) est donné par l'atome équivalent:\", fsa.operate((0,0,0.5)))\n",
    "print(\"Voir fichier no15.jpg\")\n",
    "\n",
    "print(\"\")\n",
    "\n",
    "translation=SymmOp.from_xyz_string(\"x+1/3,y-1/3,z-1/3\")\n",
    "print(\"L’élément de symétrie n°25 du fichier CIF est une translation.\")\n",
    "print(\"Cet élément de symétrie envoie tout atome situé en(x,y,z)surun atome équivalent situé en (x+1/3,y-1/3,z-1/3)\")\n",
    "print([1/3,-1/3,-1/3])\n",
    "print(\"Son application à un atome de O2 situé en(0,0,0.23) est donné par l'atome équivalent:\", translation.operate((0,0,0.23)))\n",
    "print(\"Voir fichier no25.jpg\")\n",
    "\n",
    "\n"
   ]
  },
  {
   "cell_type": "code",
   "execution_count": null,
   "metadata": {},
   "outputs": [],
   "source": []
  }
 ],
 "metadata": {
  "kernelspec": {
   "display_name": "Python 3",
   "language": "python",
   "name": "python3"
  },
  "language_info": {
   "codemirror_mode": {
    "name": "ipython",
    "version": 3
   },
   "file_extension": ".py",
   "mimetype": "text/x-python",
   "name": "python",
   "nbconvert_exporter": "python",
   "pygments_lexer": "ipython3",
   "version": "3.6.8"
  }
 },
 "nbformat": 4,
 "nbformat_minor": 2
}
