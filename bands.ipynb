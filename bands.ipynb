{
 "cells": [
  {
   "cell_type": "code",
   "execution_count": null,
   "metadata": {},
   "outputs": [],
   "source": [
    "from pymatgen.ext.matproj import MPRester\n",
    "from pymatgen.io.cif import CifWriter\n",
    "from pymatgen.electronic_structure import plotter\n",
    "with MPRester(\"tA2HQFkWnG7wRPHf\") as mp:\n",
    "    band_structure = mp.get_bandstructure_by_material_id(\"mp-23209\")\n",
    "    structure = mp.get_structure_by_material_id(\"mp-23209\")\n",
    "    \n",
    "## band gap \n",
    "gap= band_structure.get_band_gap()\n",
    "print(gap)\n",
    "print(\"\\nThe forbidden band has an energy equivalent to 5.2286 eV.\")\n",
    "print(\"\")\n",
    "print(\"\\nIndirect X-Gamma bandgap\")\n",
    "print(\"\")\n",
    "vbm = band_structure.get_vbm()\n",
    "print(vbm)\n",
    "cbm = band_structure.get_cbm()\n",
    "print(cbm)\n",
    "bsplot = plotter.BSPlotter(band_structure)\n",
    "data = bsplot.bs_plot_data()\n",
    "distances = data.get('distances')\n",
    "energy = data.get('energy')\n",
    "      \n",
    "## forbidden band:\n",
    "gap= band_structure.get_band_gap()\n",
    "print(gap)\n",
    "   \n",
    "h_bar = 6.582119569 * 10**(-16)\n",
    "\n",
    "#conduction band:\n",
    "kc = cbm.get('kpoint').frac_coords\n",
    "ec = cbm.get('energy')\n",
    "k2c = kc[0] * kc[0] + kc[1] * kc[1] + kc[2] * kc[2]\n",
    "m_effC = h_bar*h_bar /(2*ec)*k2c\n",
    "print(\"\\nthe effective mass of the first conduction band is \" +str(m_effC) + \" kg.\")\n",
    "\n",
    "#valence band\n",
    "kv = vbm.get('kpoint').frac_coords\n",
    "ev = vbm.get('energy')\n",
    "k2v = kv[0] * kv[0] + kv[1] * kv[1] + kv[2]*kv[2]\n",
    "m_effV = - h_bar*h_bar /(2*ev)*k2v\n",
    "print(\"\\nThe effective mass of the last valence band is \" + str(m_effV) + \" kg.\")"
   ]
  },
  {
   "cell_type": "code",
   "execution_count": null,
   "metadata": {},
   "outputs": [],
   "source": []
  },
  {
   "cell_type": "code",
   "execution_count": null,
   "metadata": {},
   "outputs": [],
   "source": []
  }
 ],
 "metadata": {
  "kernelspec": {
   "display_name": "Python 3",
   "language": "python",
   "name": "python3"
  }
 },
 "nbformat": 4,
 "nbformat_minor": 2
}
