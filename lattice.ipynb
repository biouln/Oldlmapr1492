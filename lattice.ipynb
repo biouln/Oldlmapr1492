{
 "cells": [
  {
   "cell_type": "code",
   "execution_count": 7,
   "metadata": {},
   "outputs": [
    {
     "name": "stdout",
     "output_type": "stream",
     "text": [
      "Full Formula (Sr1 Cl2)\n",
      "Reduced Formula: SrCl2\n",
      "abc   :   4.983141   4.983141   4.983141\n",
      "angles:  60.000000  60.000000  60.000000\n",
      "Sites (3)\n",
      "  #  SP       a     b     c    magmom\n",
      "---  ----  ----  ----  ----  --------\n",
      "  0  Sr    0     0     0           -0\n",
      "  1  Cl    0.75  0.75  0.75         0\n",
      "  2  Cl    0.25  0.25  0.25         0\n",
      "The conventional lattice of SrCl2 is cubique\n"
     ]
    }
   ],
   "source": [
    "from pymatgen.ext.matproj import MPRester\n",
    "from pymatgen.io.cif import CifWriter\n",
    "\n",
    "with MPRester(\"tA2HQFkWnG7wRPHf\") as mp:\n",
    "    # Create a structure for material id mp-1115 (PtSe2)\n",
    "    structure = mp.get_structure_by_material_id(\"mp-23209\")\n",
    "    print(structure)\n",
    "    \n",
    "\n",
    "w = CifWriter(structure, symprec=0.1)\n",
    "w.write_file(\"SrCl2_mp-23209.cif\")\n",
    "\n",
    "#retrieving direct(D) and reciprocal (R) lattices\n",
    "\n",
    "lattice_D = structure.lattice\n",
    "lattice_R= lattice_D.reciprocal_lattice\n",
    "print(\"The conventional lattice of SrCl2 is cubique face-centered\")\n"
   ]
  },
  {
   "cell_type": "code",
   "execution_count": 5,
   "metadata": {},
   "outputs": [
    {
     "name": "stdout",
     "output_type": "stream",
     "text": [
      "\n",
      "Data concerning the direct lattice\n",
      "\n",
      "a: [0.       3.523613 3.523613]\n",
      "b: [3.523613 0.       3.523613]\n",
      "c: [3.523613 3.523613 0.      ]\n",
      "\n",
      "Length of a: 4.983141293154149\n",
      "Length of b: 4.983141293154149\n",
      "Length of c: 4.983141293154149\n",
      "\n",
      "Angle alpha: 60.00000000000001\n",
      "Angle beta: 60.00000000000001\n",
      "Angle gamma: 60.00000000000001\n"
     ]
    }
   ],
   "source": [
    "#Base vectors in direct latice\n",
    "print(\"\\nData concerning the direct lattice\")\n",
    "\n",
    "base_vectors_D = lattice_D.matrix\n",
    "print(\"\\na:\", base_vectors_D[0])\n",
    "print(\"b:\", base_vectors_D[1])\n",
    "print(\"c:\", base_vectors_D[2])\n",
    "\n",
    "base_lengths_D = lattice_D.abc\n",
    "print(\"\\nLength of a:\", base_lengths_D[0])\n",
    "print(\"Length of b:\", base_lengths_D[1])\n",
    "print(\"Length of c:\", base_lengths_D[2])\n",
    "\n",
    "base_angles_D= lattice_D.angles\n",
    "print(\"\\nAngle alpha:\", base_angles_D[0])\n",
    "print(\"Angle beta:\", base_angles_D[1])\n",
    "print(\"Angle gamma:\", base_angles_D[2])"
   ]
  },
  {
   "cell_type": "code",
   "execution_count": 6,
   "metadata": {},
   "outputs": [
    {
     "name": "stdout",
     "output_type": "stream",
     "text": [
      "\n",
      "Data concerning the reciprocal lattice\n",
      "\n",
      "a*: [-0.89158277  0.89158277  0.89158277]\n",
      "b*: [ 0.89158277 -0.89158277  0.89158277]\n",
      "c*: [ 0.89158277  0.89158277 -0.89158277]\n",
      "\n",
      "Length of a*: 1.5442666639902434\n",
      "Length of b*: 1.5442666639902434\n",
      "Length of c*: 1.5442666639902434\n",
      "\n",
      "Angle alpha*: 109.47122063449069\n",
      "Angle beta*: 109.47122063449069\n",
      "Angle gamma*: 109.47122063449069\n"
     ]
    }
   ],
   "source": [
    "#Base vectors in reciprocal latice\n",
    "print(\"\\nData concerning the reciprocal lattice\")\n",
    "\n",
    "base_vectors_R = lattice_R.matrix\n",
    "print(\"\\na*:\", base_vectors_R[0])\n",
    "print(\"b*:\", base_vectors_R[1])\n",
    "print(\"c*:\", base_vectors_R[2])\n",
    "\n",
    "base_lengths_R = lattice_R.abc\n",
    "print(\"\\nLength of a*:\", base_lengths_R[0])\n",
    "print(\"Length of b*:\", base_lengths_R[1])\n",
    "print(\"Length of c*:\", base_lengths_R[2])\n",
    "\n",
    "base_angles_R = lattice_R.angles\n",
    "print(\"\\nAngle alpha*:\", base_angles_R[0])\n",
    "print(\"Angle beta*:\", base_angles_R[1])\n",
    "print(\"Angle gamma*:\", base_angles_R[2])"
   ]
  },
  {
   "cell_type": "code",
   "execution_count": null,
   "metadata": {},
   "outputs": [],
   "source": []
  }
 ],
 "metadata": {
  "kernelspec": {
   "display_name": "Python 3",
   "language": "python",
   "name": "python3"
  },
  "language_info": {
   "codemirror_mode": {
    "name": "ipython",
    "version": 3
   },
   "file_extension": ".py",
   "mimetype": "text/x-python",
   "name": "python",
   "nbconvert_exporter": "python",
   "pygments_lexer": "ipython3",
   "version": "3.6.8"
  }
 },
 "nbformat": 4,
 "nbformat_minor": 2
}
