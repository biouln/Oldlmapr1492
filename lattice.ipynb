import pymatgen as mp
import numpy as np
import pymatgen.symmetry.analyzer as span
import pymatgen.core.lattice as lat
from pymatgen.symmetry.analyzer import SpacegroupAnalyzer
from pymatgen.ext.matproj import MPRester
with MPRester("tA2HQFkWnG7wRPHf") as api:
    structure=api.get_structure_by_material_id("mp-7959")
print(structure)
finder = span.SpacegroupAnalyzer(structure)
new_finder=finder.get_primitive_standard_structure()
my_lattice=new_finder.lattice
vol=structure.volume
a=[my_lattice.a,0,0]
b=[0,my_lattice.b,0]
c=[0,0,my_lattice.c]
a1=(2*np.pi)/vol*np.cross(b,c)
b1=(2*np.pi)/vol*np.cross(c,a)
c1=(2*np.pi)/vol*np.cross(a,b)
print(' ')
print('Base vectors ')
print(a)
print(b)
print(c)
print(' ')
print('Reciprocal base vectors ')
print(a1)
print(b1)
print(c1)
print(' ')
print('crystal system:')
print(finder.get_crystal_system())
print(' ')
print('latice type:')
print(finder.get_lattice_type())
print(' ')
print('space group symbol')
print(finder.get_space_group_symbol())
print(' ')
print('reciprocal mesh:')
print(finder.get_ir_reciprocal_mesh(mesh=(3, 3, 3), is_shift=(0, 0, 0)))
print(' ')
#print('symmetry operations:')
#finder.get_symmetry_operations()
