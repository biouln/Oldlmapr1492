{
 "cells": [
  {
   "cell_type": "code",
   "execution_count": 5,
   "metadata": {},
   "outputs": [
    {
     "name": "stdout",
     "output_type": "stream",
     "text": [
      "Full Formula (K1 Er1 O2)\n",
      "Reduced Formula: KErO2\n",
      "abc   :   6.560674   6.560674   6.560674\n",
      "angles:  30.451816  30.451816  30.451816\n",
      "Sites (4)\n",
      "  #  SP           a         b         c    magmom\n",
      "---  ----  --------  --------  --------  --------\n",
      "  0  O     0.772128  0.772128  0.772128         0\n",
      "  1  O     0.227872  0.227872  0.227872         0\n",
      "  2  K     0         0         0                0\n",
      "  3  Er    0.5       0.5       0.5              0\n",
      " \n",
      "Base vectors \n",
      "[6.560673502956713, 0, 0]\n",
      "[0, 6.560673502956713, 0]\n",
      "[0, 0, 6.560673502956713]\n",
      " \n",
      "Reciprocal base vectors \n",
      "[4.20644469 0.         0.        ]\n",
      "[0.         4.20644469 0.        ]\n",
      "[0.         0.         4.20644469]\n",
      " \n",
      "crystal system:\n",
      "trigonal\n",
      " \n",
      "latice type:\n",
      "rhombohedral\n",
      " \n",
      "space group symbol\n",
      "R-3m\n",
      " \n",
      "reciprocal mesh:\n",
      "[(array([0., 0., 0.]), 1), (array([0.33333333, 0.        , 0.        ]), 6), (array([0.33333333, 0.33333333, 0.        ]), 6), (array([-0.33333333,  0.33333333,  0.        ]), 6), (array([0.33333333, 0.33333333, 0.33333333]), 2), (array([-0.33333333,  0.33333333,  0.33333333]), 6)]\n",
      " \n"
     ]
    }
   ],
   "source": [
    "import pymatgen as mp\n",
    "import numpy as np\n",
    "import pymatgen.symmetry.analyzer as span\n",
    "import pymatgen.core.lattice as lat\n",
    "from pymatgen.symmetry.analyzer import SpacegroupAnalyzer\n",
    "from pymatgen.ext.matproj import MPRester\n",
    "with MPRester(\"tA2HQFkWnG7wRPHf\") as api:\n",
    "    structure=api.get_structure_by_material_id(\"mp-7959\")\n",
    "print(structure)\n",
    "finder = span.SpacegroupAnalyzer(structure)\n",
    "new_finder=finder.get_primitive_standard_structure()\n",
    "my_lattice=new_finder.lattice\n",
    "vol=structure.volume\n",
    "a=[my_lattice.a,0,0]\n",
    "b=[0,my_lattice.b,0]\n",
    "c=[0,0,my_lattice.c]\n",
    "a1=(2*np.pi)/vol*np.cross(b,c)\n",
    "b1=(2*np.pi)/vol*np.cross(c,a)\n",
    "c1=(2*np.pi)/vol*np.cross(a,b)\n",
    "print(' ')\n",
    "print('Base vectors ')\n",
    "print(a)\n",
    "print(b)\n",
    "print(c)\n",
    "print(' ')\n",
    "print('Reciprocal base vectors ')\n",
    "print(a1)\n",
    "print(b1)\n",
    "print(c1)\n",
    "print(' ')\n",
    "print('crystal system:')\n",
    "print(finder.get_crystal_system())\n",
    "print(' ')\n",
    "print('latice type:')\n",
    "print(finder.get_lattice_type())\n",
    "print(' ')\n",
    "print('space group symbol')\n",
    "print(finder.get_space_group_symbol())\n",
    "print(' ')\n",
    "print('reciprocal mesh:')\n",
    "print(finder.get_ir_reciprocal_mesh(mesh=(3, 3, 3), is_shift=(0, 0, 0)))\n",
    "print(' ')\n",
    "#print('symmetry operations:')\n",
    "#finder.get_symmetry_operations()"
   ]
  },
  {
   "cell_type": "code",
   "execution_count": null,
   "metadata": {},
   "outputs": [],
   "source": []
  }
 ],
 "metadata": {
  "kernelspec": {
   "display_name": "Python 3",
   "language": "python",
   "name": "python3"
  },
  "language_info": {
   "codemirror_mode": {
    "name": "ipython",
    "version": 3
   },
   "file_extension": ".py",
   "mimetype": "text/x-python",
   "name": "python",
   "nbconvert_exporter": "python",
   "pygments_lexer": "ipython3",
   "version": "3.6.8"
  }
 },
 "nbformat": 4,
 "nbformat_minor": 2
}
