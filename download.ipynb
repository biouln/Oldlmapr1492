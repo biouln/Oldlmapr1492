{
 "cells": [
  {
   "cell_type": "raw",
   "metadata": {},
   "source": [
    "import pymatgen as mg\n",
    "with MPRester (\"tA2HQFkWnG7wRPHf\") as api:\n",
    "    structure=api.get_structure_by_material_id(\"mp-7959\")\n",
    "    print(structure)"
   ]
  },
  {
   "cell_type": "code",
   "execution_count": 7,
   "metadata": {
    "scrolled": true
   },
   "outputs": [
    {
     "name": "stdout",
     "output_type": "stream",
     "text": [
      "Full Formula (K3 Er3 O6)\n",
      "Reduced Formula: KErO2\n",
      "abc   :   3.446001   3.446001  18.755191\n",
      "angles:  90.000000  90.000000 120.000000\n",
      "Sites (12)\n",
      "  #  SP           a         b         c\n",
      "---  ----  --------  --------  --------\n",
      "  0  K     0         0         0\n",
      "  1  K     0.666667  0.333333  0.333333\n",
      "  2  K     0.333333  0.666667  0.666667\n",
      "  3  Er    0         0         0.5\n",
      "  4  Er    0.666667  0.333333  0.833333\n",
      "  5  Er    0.333333  0.666667  0.166667\n",
      "  6  O     0         0         0.227872\n",
      "  7  O     0         0         0.772128\n",
      "  8  O     0.666667  0.333333  0.561205\n",
      "  9  O     0.666667  0.333333  0.105461\n",
      " 10  O     0.333333  0.666667  0.894539\n",
      " 11  O     0.333333  0.666667  0.438795\n"
     ]
    }
   ],
   "source": []
  },
  {
   "cell_type": "code",
   "execution_count": null,
   "metadata": {},
   "outputs": [],
   "source": []
  }
 ],
 "metadata": {
  "kernelspec": {
   "display_name": "Python 3",
   "language": "python",
   "name": "python3"
  },
  "language_info": {
   "codemirror_mode": {
    "name": "ipython",
    "version": 3
   },
   "file_extension": ".py",
   "mimetype": "text/x-python",
   "name": "python",
   "nbconvert_exporter": "python",
   "pygments_lexer": "ipython3",
   "version": "3.6.8"
  }
 },
 "nbformat": 4,
 "nbformat_minor": 2
}
