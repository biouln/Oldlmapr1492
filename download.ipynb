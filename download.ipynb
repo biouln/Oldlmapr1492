import pymatgen as mg
with MPRester ("tA2HQFkWnG7wRPHf") as api:
    structure=api.get_structure_by_material_id("mp-7959")
    print(structure)
