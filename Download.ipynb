{
 "cells": [
  {
   "cell_type": "code",
   "execution_count": 5,
   "metadata": {},
   "outputs": [
    {
     "name": "stdout",
     "output_type": "stream",
     "text": [
      "Full Formula (Sr1 Cl2)\n",
      "Reduced Formula: SrCl2\n",
      "abc   :   4.983141   4.983141   4.983141\n",
      "angles:  60.000000  60.000000  60.000000\n",
      "Sites (3)\n",
      "  #  SP       a     b     c    magmom\n",
      "---  ----  ----  ----  ----  --------\n",
      "  0  Sr    0     0     0           -0\n",
      "  1  Cl    0.75  0.75  0.75         0\n",
      "  2  Cl    0.25  0.25  0.25         0\n"
     ]
    }
   ],
   "source": [
    "from pymatgen.ext.matproj import MPRester\n",
    "from pymatgen.io.cif import CifWriter\n",
    "\n",
    "with MPRester(\"tA2HQFkWnG7wRPHf\") as mp:\n",
    "    # Create a structure for material id mp-1115 (PtSe2)\n",
    "    structure = mp.get_structure_by_material_id(\"mp-23209\")\n",
    "    print(structure)\n",
    "    \n",
    "\n",
    "w = CifWriter(structure, symprec=0.1)\n",
    "w.write_file(\"SrCl2_mp-23209.cif\")"
   ]
  },
  {
   "cell_type": "code",
   "execution_count": null,
   "metadata": {},
   "outputs": [],
   "source": []
  },
  {
   "cell_type": "code",
   "execution_count": null,
   "metadata": {},
   "outputs": [],
   "source": []
  }
 ],
 "metadata": {
  "kernelspec": {
   "display_name": "Python 3",
   "language": "python",
   "name": "python3"
  },
  "language_info": {
   "codemirror_mode": {
    "name": "ipython",
    "version": 3
   },
   "file_extension": ".py",
   "mimetype": "text/x-python",
   "name": "python",
   "nbconvert_exporter": "python",
   "pygments_lexer": "ipython3",
   "version": "3.6.8"
  }
 },
 "nbformat": 4,
 "nbformat_minor": 2
}
